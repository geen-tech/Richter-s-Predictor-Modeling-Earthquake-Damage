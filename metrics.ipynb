{
 "cells": [
  {
   "cell_type": "markdown",
   "id": "352f8321",
   "metadata": {},
   "source": [
    "# Metriche e valutazione per classificazione multiclasse sbilanciata"
   ]
  },
  {
   "cell_type": "markdown",
   "id": "1f2d428d",
   "metadata": {},
   "source": [
    "# Imports"
   ]
  },
  {
   "cell_type": "code",
   "execution_count": null,
   "id": "314c90ad",
   "metadata": {},
   "outputs": [],
   "source": [
    "import numpy as np\n",
    "from sklearn.metrics import f1_score, precision_score, recall_score, confusion_matrix, ConfusionMatrixDisplay\n",
    "from imblearn.metrics import geometric_mean_score\n",
    "import matplotlib.pyplot as plt"
   ]
  },
  {
   "cell_type": "markdown",
   "id": "b1cee65a",
   "metadata": {},
   "source": [
    "# Funzione compute_metrics\n",
    "Questa funzione calcola diverse metriche di valutazione per un problema di classificazione multiclasse, con particolare attenzione ai casi sbilanciati. Utilizza medie micro e macro, e la G-Mean, utile quando è importante che ogni classe sia ben rappresentata."
   ]
  },
  {
   "cell_type": "code",
   "execution_count": null,
   "id": "963946a5",
   "metadata": {},
   "outputs": [],
   "source": [
    "def compute_metrics(y_true, y_pred):\n",
    "    print(\"F1-micro:\", f1_score(y_true, y_pred, average='micro'))\n",
    "    print(\"F1-macro:\", f1_score(y_true, y_pred, average='macro'))\n",
    "    print(\"Precision-macro:\", precision_score(y_true, y_pred, average='macro'))\n",
    "    print(\"Recall-macro:\", recall_score(y_true, y_pred, average='macro'))\n",
    "    gmean = geometric_mean_score(y_true, y_pred, average='macro')\n",
    "    print(\"G-Mean:\", gmean)"
   ]
  },
  {
   "cell_type": "markdown",
   "id": "629f1dbc",
   "metadata": {},
   "source": [
    "# Funzione plot_confusion_matrix\n",
    "Questa funzione visualizza la matrice di confusione, utile per comprendere quali classi vengono confuse tra loro dal modello."
   ]
  },
  {
   "cell_type": "code",
   "execution_count": null,
   "id": "ff131c46",
   "metadata": {},
   "outputs": [],
   "source": [
    "def plot_confusion_matrix(y_true, y_pred, labels=None):\n",
    "    cm = confusion_matrix(y_true, y_pred, labels=labels)\n",
    "    disp = ConfusionMatrixDisplay(confusion_matrix=cm, display_labels=labels)\n",
    "    disp.plot(cmap='Blues', xticks_rotation=45)\n",
    "    plt.title(\"Confusion Matrix\")\n",
    "    plt.show()\n"
   ]
  }
 ],
 "metadata": {
  "language_info": {
   "name": "python"
  }
 },
 "nbformat": 4,
 "nbformat_minor": 5
}
