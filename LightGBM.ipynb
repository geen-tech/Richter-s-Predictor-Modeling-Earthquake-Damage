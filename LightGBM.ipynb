{
  "nbformat": 4,
  "nbformat_minor": 0,
  "metadata": {
    "colab": {
      "provenance": [],
      "authorship_tag": "ABX9TyPwASkuGkRJVg+x4hqJiAiV",
      "include_colab_link": true
    },
    "kernelspec": {
      "name": "python3",
      "display_name": "Python 3"
    },
    "language_info": {
      "name": "python"
    }
  },
  "cells": [
    {
      "cell_type": "markdown",
      "metadata": {
        "id": "view-in-github",
        "colab_type": "text"
      },
      "source": [
        "<a href=\"https://colab.research.google.com/github/geen-tech/Richter-s-Predictor-Modeling-Earthquake-Damage/blob/main/LightGBM.ipynb\" target=\"_parent\"><img src=\"https://colab.research.google.com/assets/colab-badge.svg\" alt=\"Open In Colab\"/></a>"
      ]
    },
    {
      "cell_type": "markdown",
      "source": [
        "# LightGBM Classifier\n",
        "\n",
        "Questo notebook implementa un modello LightGBM per la previsione dei danni strutturali.\n",
        "Include preprocessing, training e salvataggio delle predizioni.\n"
      ],
      "metadata": {
        "id": "TRhkWFwcznxF"
      }
    },
    {
      "cell_type": "markdown",
      "source": [
        "# Step 1: Imports\n",
        "\n"
      ],
      "metadata": {
        "id": "aCosPGLwpvaX"
      }
    },
    {
      "cell_type": "code",
      "source": [
        "import numpy as np\n",
        "import pandas as pd\n",
        "from pathlib import Path\n",
        "\n",
        "from lightgbm import LGBMClassifier\n",
        "from sklearn.model_selection import StratifiedKFold, cross_val_score, train_test_split\n",
        "from sklearn.compose import ColumnTransformer\n",
        "from sklearn.pipeline import Pipeline\n",
        "from sklearn.preprocessing import OneHotEncoder, StandardScaler, FunctionTransformer\n",
        "from sklearn.impute import SimpleImputer\n",
        "from imblearn.over_sampling import SMOTE\n",
        "from sklearn.metrics import f1_score\n",
        "!pip install category_encoders\n",
        "from category_encoders import TargetEncoder\n",
        "\n",
        "import pickle"
      ],
      "metadata": {
        "collapsed": true,
        "id": "7pfxDcsRp0O9"
      },
      "execution_count": null,
      "outputs": []
    },
    {
      "cell_type": "markdown",
      "source": [
        "# Step 2: Constants"
      ],
      "metadata": {
        "id": "3Jlgu895q_CL"
      }
    },
    {
      "cell_type": "code",
      "source": [
        "BASE_PATH = Path().resolve()\n",
        "TRAINING_FEATURES_PATH = BASE_PATH / 'train_values.csv'\n",
        "TRAINING_LABELS_PATH = BASE_PATH / 'train_labels.csv'\n",
        "TEST_FEATURES_PATH = BASE_PATH / 'test_values.csv'"
      ],
      "metadata": {
        "id": "MDDp8h5FrIBv"
      },
      "execution_count": null,
      "outputs": []
    },
    {
      "cell_type": "markdown",
      "source": [
        "# Step 3: Load Dataset"
      ],
      "metadata": {
        "id": "MGqkXdBSrOxj"
      }
    },
    {
      "cell_type": "code",
      "source": [
        "X = pd.read_csv(TRAINING_FEATURES_PATH, index_col=0)\n",
        "y_df = pd.read_csv(TRAINING_LABELS_PATH, index_col=0)\n",
        "y = y_df['label'] if 'label' in y_df.columns else y_df.iloc[:, 0]\n",
        "X_test_final = pd.read_csv(TEST_FEATURES_PATH, index_col=0)"
      ],
      "metadata": {
        "id": "_dD_YWMQrYO0"
      },
      "execution_count": null,
      "outputs": []
    },
    {
      "cell_type": "markdown",
      "source": [
        "# Step 4: Preprocessing Pipeline"
      ],
      "metadata": {
        "id": "Varoc4x_rgcp"
      }
    },
    {
      "cell_type": "code",
      "source": [
        "categorical_cols = X.select_dtypes(include='object').columns.tolist()\n",
        "numerical_cols = X.select_dtypes(include=['int64', 'float64']).columns.tolist()\n",
        "\n",
        "categorical_transformer = Pipeline(steps=[\n",
        "    ('imputer', SimpleImputer(strategy='most_frequent')),\n",
        "    ('encoder', OneHotEncoder(handle_unknown='ignore'))\n",
        "])\n",
        "\n",
        "numerical_transformer = Pipeline(steps=[\n",
        "    ('imputer', SimpleImputer(strategy='median')),\n",
        "    ('scaler', StandardScaler())\n",
        "])\n",
        "\n",
        "preprocessor = ColumnTransformer(transformers=[\n",
        "    ('num', numerical_transformer, numerical_cols),\n",
        "    ('cat', categorical_transformer, categorical_cols)\n",
        "])"
      ],
      "metadata": {
        "id": "ZKJdJnecrjmg"
      },
      "execution_count": null,
      "outputs": []
    },
    {
      "cell_type": "markdown",
      "source": [
        "# Step 5: LightGBM Pipeline"
      ],
      "metadata": {
        "id": "ecdJW6l2rqFH"
      }
    },
    {
      "cell_type": "code",
      "source": [
        "model_pipeline = Pipeline(steps=[\n",
        "    ('preprocessing', preprocessor),\n",
        "    ('smote', SMOTE(random_state=42)),\n",
        "    ('classifier', LGBMClassifier(random_state=42, n_jobs=-1))\n",
        "])"
      ],
      "metadata": {
        "id": "rt3Dx79WrtLV"
      },
      "execution_count": null,
      "outputs": []
    },
    {
      "cell_type": "markdown",
      "source": [
        "# Step 6: Cross-Validation Evaluation"
      ],
      "metadata": {
        "id": "MhRwPndqrxtc"
      }
    },
    {
      "cell_type": "code",
      "source": [
        "cv = StratifiedKFold(n_splits=5, shuffle=True, random_state=42)\n",
        "scores = cross_val_score(model_pipeline, X, y, cv=cv, scoring='f1_micro', n_jobs=-1)\n",
        "\n",
        "print(f\"F1_micro CV Score: {scores.mean():.4f} ± {scores.std():.4f}\")"
      ],
      "metadata": {
        "id": "kyaH80ixr1AJ"
      },
      "execution_count": null,
      "outputs": []
    },
    {
      "cell_type": "markdown",
      "source": [
        "# Step 7: Train Final Model"
      ],
      "metadata": {
        "id": "N6oJoDTer4yH"
      }
    },
    {
      "cell_type": "code",
      "source": [
        "model_pipeline.fit(X, y)"
      ],
      "metadata": {
        "id": "jyUB5I7tr-BT"
      },
      "execution_count": null,
      "outputs": []
    },
    {
      "cell_type": "markdown",
      "source": [
        "# Step 8: Predict & Save"
      ],
      "metadata": {
        "id": "aiG6AYY3sBKm"
      }
    },
    {
      "cell_type": "code",
      "source": [
        "predictions = model_pipeline.predict(X_test_final)\n",
        "pd.DataFrame(predictions, index=X_test_final.index, columns=['prediction']).to_csv(BASE_PATH / 'predizioni_lightgbm_pipeline.csv')\n",
        "\n",
        "with open(BASE_PATH / 'lightgbm_pipeline_model.pkl', 'wb') as f:\n",
        "    pickle.dump(model_pipeline, f)\n",
        "\n",
        "print(\"Model and predictions saved.\")"
      ],
      "metadata": {
        "id": "OJOTAzHbsKi9"
      },
      "execution_count": null,
      "outputs": []
    }
  ]
}
