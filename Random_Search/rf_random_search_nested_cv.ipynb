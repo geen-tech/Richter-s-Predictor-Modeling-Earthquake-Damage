{
 "cells": [
  {
   "cell_type": "markdown",
   "id": "a1bd077a",
   "metadata": {},
   "source": [
    "# Random Search e Nested Cross-Validation per ottimizzare gli iperparametri del classificatore Random Forest "
   ]
  },
  {
   "cell_type": "markdown",
   "id": "ae2d28f0",
   "metadata": {},
   "source": [
    "# Imports "
   ]
  },
  {
   "cell_type": "code",
   "execution_count": null,
   "id": "c52e3406",
   "metadata": {},
   "outputs": [],
   "source": [
    "from pathlib import Path\n",
    "from pprint import pprint\n",
    "import pandas as pd\n",
    "import numpy as np\n",
    "from scipy.stats import randint\n",
    "from tqdm.auto import tqdm\n",
    "\n",
    "from sklearn.compose import ColumnTransformer\n",
    "from sklearn.preprocessing import OneHotEncoder\n",
    "from sklearn.pipeline import Pipeline\n",
    "from sklearn.ensemble import RandomForestClassifier\n",
    "from sklearn.metrics import (\n",
    "    confusion_matrix, classification_report, accuracy_score,\n",
    "    precision_score, recall_score, f1_score, make_scorer\n",
    ")\n",
    "from sklearn.model_selection import (\n",
    "    StratifiedKFold, ParameterSampler, cross_validate\n",
    ")"
   ]
  },
  {
   "cell_type": "markdown",
   "id": "ad7c0a76",
   "metadata": {},
   "source": [
    "# Funzione per visulizzare la percentuale di progresso del codice"
   ]
  },
  {
   "cell_type": "code",
   "execution_count": null,
   "id": "95156539",
   "metadata": {},
   "outputs": [],
   "source": [
    "def p(msg):\n",
    "    print(msg, flush=True)\n",
    "\n",
    "# Wrapper per stampare la progressione percentuale dei fold interni\n",
    "class KFoldProgress:\n",
    "    def __init__(self, base_cv):\n",
    "        self.base_cv = base_cv\n",
    "        self._n_splits = base_cv.get_n_splits()\n",
    "        self._seen = set()\n",
    "        p(\"      inner progress: 0%\")\n",
    "\n",
    "    def split(self, X, y=None, groups=None):\n",
    "        for idx, (tr, va) in enumerate(self.base_cv.split(X, y, groups), 1):\n",
    "            if idx not in self._seen:\n",
    "                pct = idx / self._n_splits * 100\n",
    "                p(f\"      inner progress: {pct:.0f}%\")\n",
    "                self._seen.add(idx)\n",
    "            yield tr, va\n",
    "\n",
    "    def get_n_splits(self, *args, **kwargs):\n",
    "        return self._n_splits"
   ]
  },
  {
   "cell_type": "markdown",
   "id": "74de2f80",
   "metadata": {},
   "source": [
    "# Caricamento dati di training "
   ]
  },
  {
   "cell_type": "code",
   "execution_count": null,
   "id": "753fd49e",
   "metadata": {},
   "outputs": [],
   "source": [
    "DATA_DIR = Path('.')\n",
    "X = pd.read_csv(DATA_DIR / 'train_values.csv', index_col='building_id')\n",
    "y = pd.read_csv(DATA_DIR / 'train_labels.csv', index_col='building_id')['damage_grade']\n",
    "Xt = pd.read_csv(DATA_DIR / 'test_values.csv', index_col='building_id')\n",
    "try:\n",
    "    sub_fmt = pd.read_csv(DATA_DIR / 'submission_format.csv', index_col='building_id')\n",
    "except FileNotFoundError:\n",
    "    sub_fmt = pd.DataFrame(index=Xt.index, columns=['damage_grade'])\n",
    "\n",
    "p(f\"Train {X.shape}  |  Test {Xt.shape}\")"
   ]
  },
  {
   "cell_type": "markdown",
   "id": "57655a50",
   "metadata": {},
   "source": [
    "# Parte di preprocessing "
   ]
  },
  {
   "cell_type": "code",
   "execution_count": null,
   "id": "e6088085",
   "metadata": {},
   "outputs": [],
   "source": [
    "num_cols = X.select_dtypes(include=['int64', 'float64']).columns.to_list()\n",
    "cat_cols = X.select_dtypes(include=['object', 'category']).columns.to_list()\n",
    "preprocess = ColumnTransformer([\n",
    "    ('cat', OneHotEncoder(drop='first', handle_unknown='ignore'), cat_cols),\n",
    "    ('num', 'passthrough', num_cols)\n",
    "])"
   ]
  },
  {
   "cell_type": "markdown",
   "id": "7b7e1e8e",
   "metadata": {},
   "source": [
    "# Nested Cross-validation per la ricerca degli iperparametri migliori "
   ]
  },
  {
   "cell_type": "code",
   "execution_count": null,
   "id": "fa28f9e5",
   "metadata": {},
   "outputs": [],
   "source": [
    "# Pipeline con preprocessing e modello\n",
    "base_rf = RandomForestClassifier(\n",
    "    bootstrap=True,\n",
    "    n_jobs=-1,\n",
    "    random_state=2025,\n",
    ")\n",
    "pipe = Pipeline([('prep', preprocess), ('rf', base_rf)])\n",
    "\n",
    "# Spazio iperparametri\n",
    "param_dist = {\n",
    "    'rf__n_estimators': randint(900, 1401),\n",
    "    'rf__max_depth': [None] + list(range(60, 101, 10)),\n",
    "    'rf__max_features': np.arange(0.5, 0.8, 0.05),\n",
    "    'rf__min_samples_split': randint(7, 13),\n",
    "    'rf__min_samples_leaf': randint(2, 6),\n",
    "}\n",
    "\n",
    "# Impostazioni CV\n",
    "N_ITER = 40\n",
    "INNER_K = 3\n",
    "OUTER_K = 5\n",
    "\n",
    "outer_cv = StratifiedKFold(n_splits=OUTER_K, shuffle=True, random_state=42)\n",
    "inner_cv = StratifiedKFold(n_splits=INNER_K, shuffle=True, random_state=2025)\n",
    "\n",
    "# Per salvare i risultati\n",
    "metrics_per_fold = {\n",
    "    'accuracy': [],\n",
    "    'precision_macro': [],\n",
    "    'recall_macro': [],\n",
    "    'f1_micro': [],\n",
    "    'f1_macro': [],\n",
    "}\n",
    "all_best_params = []\n",
    "\n",
    "for fold, (tr_idx, va_idx) in enumerate(outer_cv.split(X, y), 1):\n",
    "    print(f\"\\nFold {fold}/{OUTER_K}\")\n",
    "\n",
    "    X_tr, y_tr = X.iloc[tr_idx], y.iloc[tr_idx]\n",
    "    X_va, y_va = X.iloc[va_idx], y.iloc[va_idx]\n",
    "\n",
    "    best_score = -np.inf\n",
    "    best_params = None\n",
    "\n",
    "    sampler = ParameterSampler(param_dist, n_iter=N_ITER, random_state=fold)\n",
    "\n",
    "    for params in tqdm(sampler, desc=f\"Inner search fold {fold}\"):\n",
    "        pipe.set_params(**params)\n",
    "        preds = cross_val_predict(pipe, X_tr, y_tr, cv=inner_cv, n_jobs=-1)\n",
    "        score = f1_score(y_tr, preds, average='micro')\n",
    "        if score > best_score:\n",
    "            best_score = score\n",
    "            best_params = params\n",
    "\n",
    "    # Fit finale sul fold esterno\n",
    "    pipe.set_params(**best_params).fit(X_tr, y_tr)\n",
    "    y_pred = pipe.predict(X_va)\n",
    "\n",
    "    # Calcolo metriche\n",
    "    acc = accuracy_score(y_va, y_pred)\n",
    "    prec = precision_score(y_va, y_pred, average='macro', zero_division=0)\n",
    "    rec = recall_score(y_va, y_pred, average='macro', zero_division=0)\n",
    "    f1_micro = f1_score(y_va, y_pred, average='micro')\n",
    "    f1_macro = f1_score(y_va, y_pred, average='macro')\n",
    "\n",
    "    print(f\"Fold {fold} - Acc: {acc:.4f} | Prec_macro: {prec:.4f} | Recall_macro: {rec:.4f} | F1_micro: {f1_micro:.4f} | F1_macro: {f1_macro:.4f}\")\n",
    "\n",
    "    # Salva metriche\n",
    "    metrics_per_fold['accuracy'].append(acc)\n",
    "    metrics_per_fold['precision_macro'].append(prec)\n",
    "    metrics_per_fold['recall_macro'].append(rec)\n",
    "    metrics_per_fold['f1_micro'].append(f1_micro)\n",
    "    metrics_per_fold['f1_macro'].append(f1_macro)\n",
    "    all_best_params.append(best_params)\n",
    "\n",
    "# Risultati finali\n",
    "print(\"\\n=== Risultati medi sui fold esterni ===\")\n",
    "for metric, values in metrics_per_fold.items():\n",
    "    mean = np.mean(values)\n",
    "    std = np.std(values)\n",
    "    print(f\"{metric}: {mean:.4f} ± {std:.4f}\")\n",
    "\n"
   ]
  }
 ],
 "metadata": {
  "language_info": {
   "name": "python"
  }
 },
 "nbformat": 4,
 "nbformat_minor": 5
}
